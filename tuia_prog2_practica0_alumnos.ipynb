{
 "cells": [
  {
   "cell_type": "markdown",
   "metadata": {
    "id": "view-in-github"
   },
   "source": [
    "<a href=\"https://colab.research.google.com/gist/facureyes/08b89ea295de844126caa2dd4caa2778/tuia_prog2_practica0_alumnos.ipynb\" target=\"_parent\"><img src=\"https://colab.research.google.com/assets/colab-badge.svg\" alt=\"Open In Colab\"/></a>"
   ]
  },
  {
   "cell_type": "markdown",
   "metadata": {
    "id": "j3sTF5h-XSAK"
   },
   "source": [
    "# Practica 0\n",
    "\n"
   ]
  },
  {
   "cell_type": "markdown",
   "metadata": {
    "id": "fqqZSo3CVoLv"
   },
   "source": [
    "## Introducción a Jupyter Notebooks/Google Colab\n"
   ]
  },
  {
   "cell_type": "markdown",
   "metadata": {
    "id": "BVLKXC8RV1T1"
   },
   "source": [
    "Los Jupyter Notebooks pueden ser considerados documentos donde se puede escribir tanto texto como código. Los Jupyter Notebooks soportan múltiples lenguajes de programación, incluidos Python, R, Julia y Matlab, los más utilizados en análisis de datos y computación científica.\n",
    "\n",
    "Los Jupyter Notebooks pueden ser abiertos desde el navegador de la PC (Chrome, Firefox, Edge o cualquier otro).\n",
    "\n",
    "Se puede instalar un entorno local para trabajar con Jupyter Notebooks mediante la [distribución Anaconda](https://www.anaconda.com/products/distribution) de Python. Esta distribución de Python es gratuita, open-source y fácil de usar. Es además multiplataforma, podemos usarla en Mac, Windows o Linux indistintamente. Esta pensada para ser usada por científicos de datos, y por ello, trae incluidos muchos paquetes para trabajar en modelos de aprendizaje automatizado.\n",
    "\n",
    "Si ya tenemos un entorno local de Python funcionando y solo queremos agregar la posibilidad de utilizar Jupyter Notebooks, sin instalar todo el ecosistema de nuevo, podemos hacerlo directamente a través de la [página oficial de Jupyter Notebooks](https://jupyter.org/install).\n",
    "\n",
    "Sin embargo lo más cómodo (y lo recomendado para este curso) es utilizar Google Colab. Google Colab es una herramienta muy similar a Jupyter Notebooks, pero no requiere ningún tipo de instalación ya que esta completamente alojado en la nube de Google. Se puede utilizar en conjunto con Google Drive, almacenando los notebooks que escribamos como cualquier otro tipo de documento. Además, esto permite compartir y editar colaborativamente los notebooks. Al igual que la instalación con Anaconda, ya trae incluidos muchos paquetes estándar para el desarrollo de programas orientados al análisis de datos.\n",
    "\n",
    "Tanto en Jupyter Notebooks como en Google Colab, los documentos están compuestos por una serie de *celdas* (del inglés *cells*). Hay celdas de dos tipos, de texto y de código.\n",
    "\n",
    "Una celda de texto (como esta que estas leyendo ahora) contiene texto en [formato Markdown](https://markdown.es/). Esto permite escribir texto enriquecido con algunos formatos y enlaces de forma muy simple. Una guía para empezar a escribir en este formato puede ser encontrada en [esta página](https://markdown.es/sintaxis-markdown/). Adicionalmente, tenemos soporte para LaTeX para escribir ecuaciones matemáticas.\n",
    "\n",
    "Las celdas de código contiene instrucciones para la computadora, sea el código Python propiamente dicho u otras instrucciones auxiliares. Veamos nuestra primera celda de código:"
   ]
  },
  {
   "cell_type": "code",
   "execution_count": 1,
   "metadata": {
    "colab": {
     "base_uri": "https://localhost:8080/"
    },
    "executionInfo": {
     "elapsed": 8,
     "status": "ok",
     "timestamp": 1663185051543,
     "user": {
      "displayName": "Federico Aquino Martin",
      "userId": "17024064809197084357"
     },
     "user_tz": 180
    },
    "id": "OyQwuqB5V0LY",
    "outputId": "d394439c-b200-4197-f7bc-83ca70895eee"
   },
   "outputs": [
    {
     "name": "stdout",
     "output_type": "stream",
     "text": [
      "Hola mundo!\n"
     ]
    }
   ],
   "source": [
    "print(\"Hola mundo!\")"
   ]
  },
  {
   "cell_type": "markdown",
   "metadata": {
    "id": "gs8qxu4ejfaa"
   },
   "source": [
    "Notarás que la celda de código tiene un icono triangular a su izquierda (recordando al ícono \"play\" de un equipo de música). Al hacer clic en este ícono se correran las instrucciones que haya en la celda (puede ser más de una) y Jupyter Notebooks/Google Colab nos mostrara el resultado debajo. Luego de eso, el ícono cambia a un número que nos irá mostrando el orden en el que corrimos las diferentes celdas. Si acercamos el mouse a este número recuperamos el ícono triangular que nos permitirá volver a correr una celda.\n",
    "\n",
    "\n",
    "---\n",
    "\n",
    "\n"
   ]
  },
  {
   "cell_type": "markdown",
   "metadata": {
    "id": "svFLCJiR_Vcc"
   },
   "source": [
    "## Introducción al testing de software con pytest\n",
    "\n",
    "El uso de Python se esta incrementando no solo en el desarrollo de software tradicional, sino tambien en campos como análisis de datos, investigación científica, pruebas de usuario y mediciones, y muchas otras industrias. El crecimiento de Python en muchos campos críticos viene también con el deseo lograr pruebas más efectivas y más eficientes para asegurar que los programas corren de forma correcta y producen resultados correctos. En adición, más y más proyectos de software están incluyendo una fase de testing automatizado como parte del proceso de lanzamiento de nuevas versiones de un proyecto de software. Así los tests dejan de ser meras entidades secundarias y se ponen en el papel principal: son los que deciden si se confía en una nueva versión del software o no.\n",
    "\n",
    "`pytest` es una herramienta robusta para realizar testing con Python. Ha reemplazado a herramientas más antiguas como `unittest` o `nose` como la herramienta por defecto para realizar testing con Python. Algunas organizaciones que utilizan `pytest` incluyen Mozilla (desarrolladores del navegador Firefox) y Dropbox (desarrolladora de un popular servicio de almacenamiento en línea). Algunas de las ventajas que ofrece son:\n",
    "\n",
    "- Los tests escritos con esta herramienta suelen ser más sencillos de leer y escribir.\n",
    "- Es compatible con sus predecesoras, `unittest` y `nose`.\n",
    "- Es una herramienta extensible, existen decenas de *plugins* que pueden utilizarse para extender las capacidades de la herramienta.\n",
    "- Todo-en-uno: Descubre cuáles son las pruebas, las corre y reporta los resultados.\n",
    "\n",
    "\n"
   ]
  },
  {
   "cell_type": "markdown",
   "metadata": {
    "id": "TvoEXzScDpS7"
   },
   "source": [
    "## Estrategias de testing\n",
    "\n",
    "Existen diferentes estrategias de testing:\n",
    "\n",
    "- Testing de unidad o unitario (*unit-testing*): Un caso de prueba que chequea una pequeña porción de código, como una función o una clase, de manera aislada al resto del sistema. \n",
    "- Testing de integración: Un caso de prueba que comprueba el funcionamiento de una porción de código más extensa, quizás varias clases o un submódulo. Es un lugar intermedio entre un test de unidad y un test de sistema.\n",
    "- Testing de sistema o testing punta a punta (*testing end-to-end*): Un caso de prueba que comprueba que todo el sistema bajo prueba funcione en un ambiente tan cerrado como sea posible.\n",
    "\n",
    "Si bien `pytest` es util para todas las estrategias, nos concentraremos en los tests unitarios.\n",
    "\n",
    "Contrariamente al pensamiento popular, escribir tests es mucho más sencillo que escribir código de funcionalidad. Es por ello mismo que resulta recomendable escribir el test primero, en un enfoque conocido como Desarrollo guiado por la prueba primero (o *test-driven development*, o *TDD* en inglés)."
   ]
  },
  {
   "cell_type": "markdown",
   "metadata": {
    "id": "jgkXWXjqF6RL"
   },
   "source": [
    "## Comenzando con `pytest`\n",
    "\n",
    "Para agregar la librería `pytest` a un Jupyter Notebook/Google Colab, es necesario correr la siguiente línea para instalarlo (Importante: realizar esto por cada JN/GC que querramos usar!). \n",
    "\n",
    "**Nota**: Si estás utilizando otro tipo de entorno para Python, podés buscar información en la [página oficial de `pytest`](https://docs.pytest.org/en/7.1.x/). "
   ]
  },
  {
   "cell_type": "code",
   "execution_count": null,
   "metadata": {
    "colab": {
     "base_uri": "https://localhost:8080/"
    },
    "id": "KAcpsyUSF5pN",
    "outputId": "e49354ce-4fe2-4b99-a4af-45f24d80ba37"
   },
   "outputs": [
    {
     "name": "stdout",
     "output_type": "stream",
     "text": [
      "Looking in indexes: https://pypi.org/simple, https://us-python.pkg.dev/colab-wheels/public/simple/\n",
      "Requirement already satisfied: pytest in /usr/local/lib/python3.7/dist-packages (3.6.4)\n",
      "Requirement already satisfied: more-itertools>=4.0.0 in /usr/local/lib/python3.7/dist-packages (from pytest) (8.14.0)\n",
      "Requirement already satisfied: setuptools in /usr/local/lib/python3.7/dist-packages (from pytest) (57.4.0)\n",
      "Requirement already satisfied: pluggy<0.8,>=0.5 in /usr/local/lib/python3.7/dist-packages (from pytest) (0.7.1)\n",
      "Requirement already satisfied: attrs>=17.4.0 in /usr/local/lib/python3.7/dist-packages (from pytest) (22.1.0)\n",
      "Requirement already satisfied: six>=1.10.0 in /usr/local/lib/python3.7/dist-packages (from pytest) (1.15.0)\n",
      "Requirement already satisfied: atomicwrites>=1.0 in /usr/local/lib/python3.7/dist-packages (from pytest) (1.4.1)\n",
      "Requirement already satisfied: py>=1.5.0 in /usr/local/lib/python3.7/dist-packages (from pytest) (1.11.0)\n"
     ]
    }
   ],
   "source": [
    "!pip install pytest"
   ]
  },
  {
   "cell_type": "markdown",
   "metadata": {
    "id": "2X_QwmqwGfs7"
   },
   "source": [
    "Para escribir un conjunto conjunto de funcionalidad y testing seguiremos el siguiente patrón. Utilizaremos como ejemplo una función sencilla que suma dos números."
   ]
  },
  {
   "cell_type": "code",
   "execution_count": 2,
   "metadata": {
    "colab": {
     "base_uri": "https://localhost:8080/"
    },
    "executionInfo": {
     "elapsed": 284,
     "status": "ok",
     "timestamp": 1663185258137,
     "user": {
      "displayName": "Federico Aquino Martin",
      "userId": "17024064809197084357"
     },
     "user_tz": 180
    },
    "id": "AyWFJhyRGdR6",
    "outputId": "5e6d9bdf-94f9-4d48-9284-9d10fc7ab223"
   },
   "outputs": [
    {
     "name": "stdout",
     "output_type": "stream",
     "text": [
      "Writing test_add.py\n"
     ]
    }
   ],
   "source": [
    "%%file test_add.py\n",
    "def add(x, y):\n",
    "  return x + y\n",
    "\n",
    "def test_add():\n",
    "  assert add(0, 0) == 0\n",
    "  assert add(0, 1) == 1\n",
    "  assert add(1, 1) == 2"
   ]
  },
  {
   "cell_type": "markdown",
   "metadata": {
    "id": "8h2JmglVHWuA"
   },
   "source": [
    "Algunas partes importantes:\n",
    "\n",
    "* El encabezado `%%file test_add.py` no es una instrucción de Python, si no una sintaxis especial utilizada por JN/GC para indicar que queremos guardar el contenido de esta celda en un archivo. Es importante que el archivo comience con `test_` y termine en `.py` para que `pytest` pueda reconocer que se trata de un archivo con casos de prueba.\n",
    "* En pytest cada caso de prueba es una función. Para distinguir las funciones que son casos de prueba de aquellas que implementan funcionalidad, también necesitamos que el nombre de la función comience con `test_`.\n",
    "* Dentro de un caso de prueba, utilizamos la palabra reservada `assert` para comprobar que la función, con determinados argumentos de prueba, devuelven el resultado esperado.\n",
    "\n",
    "Veamos ahora como utilizar pytest."
   ]
  },
  {
   "cell_type": "code",
   "execution_count": 3,
   "metadata": {
    "colab": {
     "base_uri": "https://localhost:8080/"
    },
    "executionInfo": {
     "elapsed": 868,
     "status": "ok",
     "timestamp": 1663185262331,
     "user": {
      "displayName": "Federico Aquino Martin",
      "userId": "17024064809197084357"
     },
     "user_tz": 180
    },
    "id": "fGUpo8PLHUc8",
    "outputId": "fc807c0f-4cfc-4ea8-e57a-aee2a1e256b2"
   },
   "outputs": [
    {
     "name": "stdout",
     "output_type": "stream",
     "text": [
      "\u001b[1m============================= test session starts ==============================\u001b[0m\n",
      "platform linux -- Python 3.7.13, pytest-3.6.4, py-1.11.0, pluggy-0.7.1\n",
      "rootdir: /content, inifile:\n",
      "plugins: typeguard-2.7.1\n",
      "\u001b[1m\r",
      "collecting 0 items                                                             \u001b[0m\u001b[1m\r",
      "collecting 1 item                                                              \u001b[0m\u001b[1m\r",
      "collected 1 item                                                               \u001b[0m\n",
      "\n",
      "test_add.py .\u001b[36m                                                            [100%]\u001b[0m\n",
      "\n",
      "\u001b[32m\u001b[1m=========================== 1 passed in 0.02 seconds ===========================\u001b[0m\n"
     ]
    }
   ],
   "source": [
    "!python -m pytest"
   ]
  },
  {
   "cell_type": "markdown",
   "metadata": {
    "id": "rBDrF1aAIX2h"
   },
   "source": [
    "El puntito al lado de `test_add.py` quiere decir que el test corrió con éxito. Agreguemos a propósito un caso de prueba malo para ver que nos dice `pytest` en este caso."
   ]
  },
  {
   "cell_type": "code",
   "execution_count": 4,
   "metadata": {
    "colab": {
     "base_uri": "https://localhost:8080/"
    },
    "executionInfo": {
     "elapsed": 461,
     "status": "ok",
     "timestamp": 1663185274144,
     "user": {
      "displayName": "Federico Aquino Martin",
      "userId": "17024064809197084357"
     },
     "user_tz": 180
    },
    "id": "LubVGtDuIsOg",
    "outputId": "3ae4a6e8-4565-4a9d-d12c-2d3b59a9d7c8"
   },
   "outputs": [
    {
     "name": "stdout",
     "output_type": "stream",
     "text": [
      "Overwriting test_add.py\n"
     ]
    }
   ],
   "source": [
    "%%file test_add.py\n",
    "def add(x, y):\n",
    "  return x + y\n",
    "\n",
    "def test_add():\n",
    "  assert add(0, 0) == 0\n",
    "  assert add(0, 1) == 1\n",
    "  assert add(1, 1) == 2\n",
    "\n",
    "def test_add_bad_case():\n",
    "  assert add(1, 1) == 1"
   ]
  },
  {
   "cell_type": "code",
   "execution_count": 6,
   "metadata": {
    "colab": {
     "base_uri": "https://localhost:8080/"
    },
    "executionInfo": {
     "elapsed": 577,
     "status": "ok",
     "timestamp": 1663185300439,
     "user": {
      "displayName": "Federico Aquino Martin",
      "userId": "17024064809197084357"
     },
     "user_tz": 180
    },
    "id": "hE5zMuSDIztZ",
    "outputId": "2bf03384-fddf-4922-ba7a-31e3f3caeed4"
   },
   "outputs": [
    {
     "name": "stdout",
     "output_type": "stream",
     "text": [
      "\u001b[1m============================= test session starts ==============================\u001b[0m\n",
      "platform linux -- Python 3.7.13, pytest-3.6.4, py-1.11.0, pluggy-0.7.1\n",
      "rootdir: /content, inifile:\n",
      "plugins: typeguard-2.7.1\n",
      "\u001b[1m\r",
      "collecting 0 items                                                             \u001b[0m\u001b[1m\r",
      "collecting 2 items                                                             \u001b[0m\u001b[1m\r",
      "collected 2 items                                                              \u001b[0m\n",
      "\n",
      "test_add.py .F\u001b[36m                                                           [100%]\u001b[0m\n",
      "\n",
      "=================================== FAILURES ===================================\n",
      "\u001b[31m\u001b[1m______________________________ test_add_bad_case _______________________________\u001b[0m\n",
      "\n",
      "\u001b[1m    def test_add_bad_case():\u001b[0m\n",
      "\u001b[1m>     assert add(1, 1) == 1\u001b[0m\n",
      "\u001b[1m\u001b[31mE     assert 2 == 1\u001b[0m\n",
      "\u001b[1m\u001b[31mE      +  where 2 = add(1, 1)\u001b[0m\n",
      "\n",
      "\u001b[1m\u001b[31mtest_add.py\u001b[0m:10: AssertionError\n",
      "\u001b[31m\u001b[1m====================== 1 failed, 1 passed in 0.02 seconds ======================\u001b[0m\n"
     ]
    }
   ],
   "source": [
    "!python -m pytest"
   ]
  },
  {
   "cell_type": "markdown",
   "metadata": {
    "id": "14Z35SSMI4o_"
   },
   "source": [
    "Notemos que ahora al lado de de `test_add.py` tenemos un punto (por el caso de prueba que corrió bien) y al lado una F. La es por la palabra en inglés *FAILED* (fallido, erróneo), que nos indica que en algún caso de prueba no se cumplió un caso de prueba que esperabamos. Mas abajo, `pytest` imprime un detalle de los errores, incluyendo el valor real calculado para el caso de prueba.\n",
    "\n",
    "Habiendo aprendido esto, quitemos este test erróneo para que no moleste más adelante.\n"
   ]
  },
  {
   "cell_type": "code",
   "execution_count": 7,
   "metadata": {
    "colab": {
     "base_uri": "https://localhost:8080/"
    },
    "executionInfo": {
     "elapsed": 5,
     "status": "ok",
     "timestamp": 1663185348246,
     "user": {
      "displayName": "Federico Aquino Martin",
      "userId": "17024064809197084357"
     },
     "user_tz": 180
    },
    "id": "8D7gDL2iLFwY",
    "outputId": "fe4f0188-8f28-46b3-f6c4-2d502b6de7eb"
   },
   "outputs": [
    {
     "name": "stdout",
     "output_type": "stream",
     "text": [
      "Overwriting test_add.py\n"
     ]
    }
   ],
   "source": [
    "%%file test_add.py\n",
    "def add(x, y):\n",
    "  return x + y\n",
    "\n",
    "def test_add():\n",
    "  assert add(0, 0) == 0\n",
    "  assert add(0, 1) == 1\n",
    "  assert add(1, 1) == 2\n",
    "  assert add(\"ho\",\"la\") == \"hola\""
   ]
  },
  {
   "cell_type": "markdown",
   "metadata": {
    "id": "j83uJugFVxHm"
   },
   "source": [
    "## Programación Orientada a Objetos con Python"
   ]
  },
  {
   "cell_type": "markdown",
   "metadata": {
    "id": "_HipFk96Vl-l"
   },
   "source": [
    "Realizar un pequeño proyecto para representar mediante clases y objetos juegos con un mazo de carta españolas, como la casita robada, la escoba de 15, el chinchon o el truco argentino. Recordar escribir en cada ejercicio los casos de prueba que correspondan.\n",
    "\n",
    "Conocimiento de base: Un mazo de cartas españolas trae 50 cartas. Estas estan clasificadas segun su _palo_, que puede ser Bastos, Espadas, Copas u Oros. Hay 12 cartas de cada tipo, numeradas correspondientemente. Es común llamar Sota a la carta con el número 10, Caballo a la carta con el número 11, Rey a la carta con el número 12 y As a la carta con el número. El mazo de cartas de españolas se completa con dos comodines. \n",
    "\n",
    "**Ejercicio 1**: Definir una clase Carta que contenga todos los atributos necesarios para describir las cartas españolas."
   ]
  },
  {
   "cell_type": "code",
   "execution_count": 10,
   "metadata": {
    "colab": {
     "base_uri": "https://localhost:8080/"
    },
    "executionInfo": {
     "elapsed": 266,
     "status": "ok",
     "timestamp": 1663185424047,
     "user": {
      "displayName": "Federico Aquino Martin",
      "userId": "17024064809197084357"
     },
     "user_tz": 180
    },
    "id": "k5HiDX3OXK9F",
    "outputId": "a0a98796-5125-4f1b-89a6-15006c80f5d6"
   },
   "outputs": [
    {
     "name": "stdout",
     "output_type": "stream",
     "text": [
      "Writing test_carta.py\n"
     ]
    }
   ],
   "source": [
    "%%file test_carta.py\n",
    "class Carta():\n",
    "  def __init__(self, numero=None, palo=None, es_comodin=False):\n",
    "    self.numero = numero\n",
    "    self.palo = palo\n",
    "    self.es_comodin = es_comodin\n",
    "\n",
    "def test_ancho_de_espadas():\n",
    "  ancho_de_espadas = Carta(1, \"espadas\")\n",
    "  assert ancho_de_espadas.numero == 1\n",
    "  assert ancho_de_espadas.palo == \"espadas\"\n",
    "  assert ancho_de_espadas.es_comodin == False\n"
   ]
  },
  {
   "cell_type": "code",
   "execution_count": 8,
   "metadata": {
    "colab": {
     "base_uri": "https://localhost:8080/"
    },
    "executionInfo": {
     "elapsed": 311,
     "status": "ok",
     "timestamp": 1663185382452,
     "user": {
      "displayName": "Federico Aquino Martin",
      "userId": "17024064809197084357"
     },
     "user_tz": 180
    },
    "id": "Itx3bdurMVeq",
    "outputId": "96438aab-c5c7-46be-9550-d69fee17a2d9"
   },
   "outputs": [
    {
     "name": "stdout",
     "output_type": "stream",
     "text": [
      "\u001b[1m============================= test session starts ==============================\u001b[0m\n",
      "platform linux -- Python 3.7.13, pytest-3.6.4, py-1.11.0, pluggy-0.7.1\n",
      "rootdir: /content, inifile:\n",
      "plugins: typeguard-2.7.1\n",
      "\u001b[1m\r",
      "collecting 0 items                                                             \u001b[0m\u001b[1m\r",
      "collecting 1 item                                                              \u001b[0m\u001b[1m\r",
      "collected 1 item                                                               \u001b[0m\n",
      "\n",
      "test_add.py .\u001b[36m                                                            [100%]\u001b[0m\n",
      "\n",
      "\u001b[32m\u001b[1m=========================== 1 passed in 0.02 seconds ===========================\u001b[0m\n"
     ]
    }
   ],
   "source": [
    "!python -m pytest "
   ]
  },
  {
   "cell_type": "markdown",
   "metadata": {
    "id": "WtElgLpHY6oz"
   },
   "source": [
    "**Ejercicio 2**: Instanciar objetos que representen el as de espadas, un comodín, el 3 de copas y el rey de bastos"
   ]
  },
  {
   "cell_type": "code",
   "execution_count": 12,
   "metadata": {
    "executionInfo": {
     "elapsed": 287,
     "status": "ok",
     "timestamp": 1663185623772,
     "user": {
      "displayName": "Federico Aquino Martin",
      "userId": "17024064809197084357"
     },
     "user_tz": 180
    },
    "id": "OkoXNy9sL3mD"
   },
   "outputs": [],
   "source": [
    "# escribi tu codigo aca \n",
    "\n",
    "from test_carta import Carta\n",
    "\n",
    "comodin0 = Carta(None, None, True)\n",
    "comodin1 = Carta(es_comodin=True)\n",
    "\n",
    "tres_de_copas = Carta(3,\"copas\")\n",
    "as_de_espadas = Carta(1, \"espadas\", False)\n",
    "rey_de_bastos = Carta(12,\"bastos\", False)"
   ]
  },
  {
   "cell_type": "markdown",
   "metadata": {
    "id": "f_BNcaksacdM"
   },
   "source": [
    "**Ejercicio 3**: Definir un método que nos permita imprimir las cartas como lo haríamos naturalmente. Ejemplo: 5 de Basto."
   ]
  },
  {
   "cell_type": "code",
   "execution_count": 13,
   "metadata": {
    "colab": {
     "base_uri": "https://localhost:8080/"
    },
    "executionInfo": {
     "elapsed": 414,
     "status": "ok",
     "timestamp": 1663185692412,
     "user": {
      "displayName": "Federico Aquino Martin",
      "userId": "17024064809197084357"
     },
     "user_tz": 180
    },
    "id": "1YOEW6o2Zda2",
    "outputId": "4bc8942d-0e3d-47c6-f227-e321e866c9e1"
   },
   "outputs": [
    {
     "name": "stdout",
     "output_type": "stream",
     "text": [
      "Overwriting test_carta.py\n"
     ]
    }
   ],
   "source": [
    "%%file test_carta.py\n",
    "\n",
    "class Carta():\n",
    "  def __init__(self, numero=None, palo=None, es_comodin=False):\n",
    "    self.numero = numero\n",
    "    self.palo = palo\n",
    "    self.es_comodin = es_comodin\n",
    "    self._apodos = {1: \"As\", 10: \"Sota\", 11: \"Caballo\", 12: \"Rey\"}\n",
    "\n",
    "  def __str__(self):\n",
    "    if self.es_comodin: \n",
    "      return \"Comodin\"\n",
    "    if self.numero in self._apodos.keys():\n",
    "      return f\"{self._apodos[self.numero]} de {self.palo}\"\n",
    "    return f\"{self.numero} de {self.palo}\" \n",
    "\n",
    "#----------------------------------------------------------------------\n",
    "def test_ancho_de_espadas():\n",
    "  ancho_de_espadas = Carta(1, \"espadas\")\n",
    "  assert ancho_de_espadas.numero == 1\n",
    "  assert ancho_de_espadas.palo == \"espadas\"\n",
    "  assert ancho_de_espadas.es_comodin == False\n",
    "\n",
    "def test_rey_de_bastos():\n",
    "  mi_carta = Carta(12, \"basto\")\n",
    "  assert str(mi_carta) == \"Rey de basto\"\n",
    "\n"
   ]
  },
  {
   "cell_type": "code",
   "execution_count": 14,
   "metadata": {
    "colab": {
     "base_uri": "https://localhost:8080/"
    },
    "executionInfo": {
     "elapsed": 902,
     "status": "ok",
     "timestamp": 1663185696516,
     "user": {
      "displayName": "Federico Aquino Martin",
      "userId": "17024064809197084357"
     },
     "user_tz": 180
    },
    "id": "jUrQCYoAMdP6",
    "outputId": "aa2512e8-fd90-4d99-81a7-2b80910f47ca"
   },
   "outputs": [
    {
     "name": "stdout",
     "output_type": "stream",
     "text": [
      "\u001b[1m============================= test session starts ==============================\u001b[0m\n",
      "platform linux -- Python 3.7.13, pytest-3.6.4, py-1.11.0, pluggy-0.7.1\n",
      "rootdir: /content, inifile:\n",
      "plugins: typeguard-2.7.1\n",
      "\u001b[1m\r",
      "collecting 0 items                                                             \u001b[0m\u001b[1m\r",
      "collecting 1 item                                                              \u001b[0m\u001b[1m\r",
      "collecting 3 items                                                             \u001b[0m\u001b[1m\r",
      "collected 3 items                                                              \u001b[0m\n",
      "\n",
      "test_add.py .\u001b[36m                                                            [ 33%]\u001b[0m\n",
      "test_carta.py ..\u001b[36m                                                         [100%]\u001b[0m\n",
      "\n",
      "\u001b[32m\u001b[1m=========================== 3 passed in 0.02 seconds ===========================\u001b[0m\n"
     ]
    }
   ],
   "source": [
    "!python -m pytest"
   ]
  },
  {
   "cell_type": "markdown",
   "metadata": {
    "id": "1lthhz-4bTGh"
   },
   "source": [
    "**Ejercicio 4**: Escribir un método que nos permita comparar cartas por igualdad"
   ]
  },
  {
   "cell_type": "code",
   "execution_count": 15,
   "metadata": {
    "colab": {
     "base_uri": "https://localhost:8080/"
    },
    "executionInfo": {
     "elapsed": 274,
     "status": "ok",
     "timestamp": 1663185728661,
     "user": {
      "displayName": "Federico Aquino Martin",
      "userId": "17024064809197084357"
     },
     "user_tz": 180
    },
    "id": "cIW8WM6ObYhY",
    "outputId": "1e67ad86-c42b-405e-d5ba-04d95096912c"
   },
   "outputs": [
    {
     "name": "stdout",
     "output_type": "stream",
     "text": [
      "Overwriting test_carta.py\n"
     ]
    }
   ],
   "source": [
    "%%file test_carta.py\n",
    "\n",
    "class Carta():\n",
    "  def __init__(self, numero=None, palo=None, es_comodin=False):\n",
    "    self.numero = numero\n",
    "    self.palo = palo\n",
    "    self.es_comodin = es_comodin\n",
    "    self._apodos = {1: \"As\", 10: \"Sota\", 11: \"Caballo\", 12: \"Rey\"}\n",
    "\n",
    "  def __str__(self):\n",
    "    if self.es_comodin: \n",
    "      return \"Comodin\"\n",
    "    if self.numero in self._apodos.keys():\n",
    "      return f\"{self._apodos[self.numero]} de {self.palo}\"\n",
    "    return f\"{self.numero} de {self.palo}\" \n",
    "\n",
    "  def __eq__(self, other):\n",
    "    return  self.es_comodin == other.es_comodin and \\\n",
    "            self.numero == other.numero and \\\n",
    "            self.palo == other.palo\n",
    "\n",
    "def test_ancho_de_espadas():\n",
    "  ancho_de_espadas = Carta(1, \"espadas\")\n",
    "  assert ancho_de_espadas.numero == 1\n",
    "  assert ancho_de_espadas.palo == \"espadas\"\n",
    "  assert ancho_de_espadas.es_comodin == False\n",
    "\n",
    "def test_rey_de_bastos():\n",
    "  mi_carta = Carta(12, \"basto\")\n",
    "  assert str(mi_carta) == \"Rey de basto\"\n",
    "\n",
    "def test_igualidad():\n",
    "  mi_carta1 = Carta(12, \"basto\")\n",
    "  mi_carta2 = Carta(12, \"basto\", False)\n",
    "  assert mi_carta1 == mi_carta2\n"
   ]
  },
  {
   "cell_type": "code",
   "execution_count": 16,
   "metadata": {
    "colab": {
     "base_uri": "https://localhost:8080/"
    },
    "executionInfo": {
     "elapsed": 784,
     "status": "ok",
     "timestamp": 1663185756010,
     "user": {
      "displayName": "Federico Aquino Martin",
      "userId": "17024064809197084357"
     },
     "user_tz": 180
    },
    "id": "4MkdXfEWM77D",
    "outputId": "291f7829-6e6a-4102-8abf-2ba1e2e565c3"
   },
   "outputs": [
    {
     "name": "stdout",
     "output_type": "stream",
     "text": [
      "\u001b[1m============================= test session starts ==============================\u001b[0m\n",
      "platform linux -- Python 3.7.13, pytest-3.6.4, py-1.11.0, pluggy-0.7.1\n",
      "rootdir: /content, inifile:\n",
      "plugins: typeguard-2.7.1\n",
      "\u001b[1m\r",
      "collecting 0 items                                                             \u001b[0m\u001b[1m\r",
      "collecting 1 item                                                              \u001b[0m\u001b[1m\r",
      "collecting 4 items                                                             \u001b[0m\u001b[1m\r",
      "collected 4 items                                                              \u001b[0m\n",
      "\n",
      "test_add.py .\u001b[36m                                                            [ 25%]\u001b[0m\n",
      "test_carta.py ...\u001b[36m                                                        [100%]\u001b[0m\n",
      "\n",
      "\u001b[32m\u001b[1m=========================== 4 passed in 0.03 seconds ===========================\u001b[0m\n"
     ]
    }
   ],
   "source": [
    "!python -m pytest"
   ]
  },
  {
   "cell_type": "markdown",
   "metadata": {
    "id": "7NlRlvLtb8xE"
   },
   "source": [
    "**Ejercicio 5**: Escribir una clase mazo, que construya el mazo de cartas españolas. Escribir un método que devuelve cuantas cartas hay en el mazo."
   ]
  },
  {
   "cell_type": "code",
   "execution_count": 29,
   "metadata": {
    "colab": {
     "base_uri": "https://localhost:8080/"
    },
    "executionInfo": {
     "elapsed": 279,
     "status": "ok",
     "timestamp": 1663187431642,
     "user": {
      "displayName": "Federico Aquino Martin",
      "userId": "17024064809197084357"
     },
     "user_tz": 180
    },
    "id": "-dyUFtoPZgEK",
    "outputId": "bcd02b64-2a26-4574-ee23-8c6f4ddd79aa"
   },
   "outputs": [
    {
     "name": "stdout",
     "output_type": "stream",
     "text": [
      "Overwriting test_mazo.py\n"
     ]
    }
   ],
   "source": [
    "%%file test_mazo.py\n",
    "\n",
    "from test_carta import Carta # Importamos carta\n",
    "\n",
    "# escribi tu codigo aca.\n",
    "\n",
    "class Mazo(Carta):\n",
    "\n",
    "  def __init__(self):\n",
    "    self.mazo = []\n",
    "    \n",
    "    for palo in [\"Oro\",\"Basto\",\"Espada\",\"Copa\"]:\n",
    "       for valor in range(1, 12):\n",
    "         self.mazo.append(Carta(valor, palo))\n",
    "    \n",
    "    self.mazo.append(Carta(None, None, True))\n",
    "    self.mazo.append(Carta(None, None, True))\n",
    "\n",
    "#############################################################\n",
    "\n",
    "  def total_Mazo(self):\n",
    "    return \"Cantidad actual de cartas en el mazo: \", len(self.mazo)\n",
    "\n",
    "  def __str__(self):\n",
    "    \n"
   ]
  },
  {
   "cell_type": "code",
   "execution_count": 30,
   "metadata": {
    "colab": {
     "base_uri": "https://localhost:8080/"
    },
    "executionInfo": {
     "elapsed": 7,
     "status": "ok",
     "timestamp": 1663187433706,
     "user": {
      "displayName": "Federico Aquino Martin",
      "userId": "17024064809197084357"
     },
     "user_tz": 180
    },
    "id": "dFKgL-AbFyt7",
    "outputId": "8bf2d3e5-b48e-433e-c969-1bc60a834d6e"
   },
   "outputs": [
    {
     "name": "stdout",
     "output_type": "stream",
     "text": [
      "<bound method Mazo.total_Mazo of <test_mazo.Mazo object at 0x7f933587f650>>\n"
     ]
    }
   ],
   "source": [
    "from test_mazo import Mazo\n",
    "\n",
    "juego=Mazo()\n",
    "print(juego.total_Mazo)\n",
    "\n",
    "\n",
    "\n"
   ]
  },
  {
   "cell_type": "code",
   "execution_count": null,
   "metadata": {
    "id": "xGX11JypNTKi"
   },
   "outputs": [],
   "source": [
    "!python -m pytest"
   ]
  },
  {
   "cell_type": "markdown",
   "metadata": {
    "id": "d7qIHM8Ycyek"
   },
   "source": [
    "**Ejercicio 6**: Escribir un método en la clase Mazo que *mezcle* el mazo. Puede ser de utilidad el módulo [`random`](https://docs.python.org/3/library/random.html) de la biblioteca estándar de Python."
   ]
  },
  {
   "cell_type": "code",
   "execution_count": null,
   "metadata": {
    "id": "ic6ZudeEdRsO"
   },
   "outputs": [],
   "source": [
    "%%file test_mazo.py\n",
    "\n",
    "import random\n",
    "from test_carta import Carta # Importamos carta\n",
    "# escribi tu codigo aca.\n",
    "# No olvides copiarte lo que resolviste en el punto anterior!"
   ]
  },
  {
   "cell_type": "markdown",
   "metadata": {
    "id": "uadyoUmidPTU"
   },
   "source": [
    "**Ejercicio 7**: Implementar en la clase Mazo, un método que permita sacar una carta específica del mazo, y que devuelva `True` si la carta estaba presente o `False` si no lo estaba."
   ]
  },
  {
   "cell_type": "code",
   "execution_count": null,
   "metadata": {
    "id": "1leDuElZd-KI"
   },
   "outputs": [],
   "source": [
    "%%file test_mazo.py\n",
    "\n",
    "import random\n",
    "from test_carta import Carta # Importamos carta\n",
    "# escribi tu codigo aca.\n",
    "# No olvides copiarte lo que resolviste en el punto anterior!"
   ]
  },
  {
   "cell_type": "code",
   "execution_count": null,
   "metadata": {
    "id": "9J2VWPiGOR-a"
   },
   "outputs": [],
   "source": [
    "!python -m pytest"
   ]
  },
  {
   "cell_type": "markdown",
   "metadata": {
    "id": "7U6z7JQneWSM"
   },
   "source": [
    "**Ejercicio 8**: Implementar un método `sacar_carta` para robar una carta del mazo, es decir, para sacar aquella que se encuentra primera.\n",
    "\n"
   ]
  },
  {
   "cell_type": "code",
   "execution_count": null,
   "metadata": {
    "id": "bNZNdtm8fVDM"
   },
   "outputs": [],
   "source": [
    "%%file test_mazo.py\n",
    "\n",
    "import random\n",
    "from test_carta import Carta # Importamos carta\n",
    "# escribi tu codigo aca.\n",
    "# No olvides copiarte lo que resolviste en el punto anterior!"
   ]
  },
  {
   "cell_type": "code",
   "execution_count": null,
   "metadata": {
    "id": "0_pcJRlZOrh8"
   },
   "outputs": [],
   "source": [
    "!python -m pytest"
   ]
  },
  {
   "cell_type": "markdown",
   "metadata": {
    "id": "fV0CI5Gyf3vQ"
   },
   "source": [
    "**Ejercicio 9**: Implementar un método que nos permita saber si quedan cartas en el mazo"
   ]
  },
  {
   "cell_type": "code",
   "execution_count": null,
   "metadata": {
    "id": "MJWEuwTFgCLg"
   },
   "outputs": [],
   "source": [
    "%%file test_mazo.py\n",
    "\n",
    "import random\n",
    "from test_carta import Carta # Importamos carta\n",
    "# escribi tu codigo aca.\n",
    "# No olvides copiarte lo que resolviste en el punto anterior!\n",
    "\n",
    "\n"
   ]
  },
  {
   "cell_type": "code",
   "execution_count": null,
   "metadata": {
    "id": "vVhoOveiPAG4"
   },
   "outputs": [],
   "source": [
    "!python -m pytest"
   ]
  },
  {
   "cell_type": "markdown",
   "metadata": {
    "id": "3FEE88fogZ0K"
   },
   "source": [
    "**Ejercicio 10** Escribir una clase Mano, que represente la mano de un jugador en algun juego de cartas. Tener en cuenta que necesitaremos los métodos `sacar_carta` y otros ya definidos en Mazo. Además, necesitaremos asociar el nombre del jugador que tiene esta mano"
   ]
  },
  {
   "cell_type": "code",
   "execution_count": null,
   "metadata": {
    "id": "KNzZlwkihQ7R"
   },
   "outputs": [],
   "source": [
    "%%file test_mano.py\n",
    "from test_mazo import Mazo # Importamos Mazo\n",
    "# escribi tu codigo aca.\n"
   ]
  },
  {
   "cell_type": "code",
   "execution_count": null,
   "metadata": {
    "id": "jijTFtetPTyP"
   },
   "outputs": [],
   "source": [
    "!python -m pytest"
   ]
  },
  {
   "cell_type": "markdown",
   "metadata": {
    "id": "Ao7G-1t6hmcg"
   },
   "source": [
    "**Ejercicio 11**: Necesitaremos que una mano tenga funcionalidad para agregar cartas a la mano y sacar cartas de la mano. ¿Cuantos métodos debemos definir? Definir solamente aquellos métodos necesarios."
   ]
  },
  {
   "cell_type": "code",
   "execution_count": null,
   "metadata": {
    "id": "QRy3ACYThl1L"
   },
   "outputs": [],
   "source": [
    "%%file test_mano.py\n",
    "from test_mazo import Mazo # Importamos Mazo\n",
    "from test_carta import Carta # Importamos Carta\n",
    "# escribi tu codigo aca.\n",
    "# No olvides copiarte lo que resolviste en el punto anterior!"
   ]
  },
  {
   "cell_type": "code",
   "execution_count": null,
   "metadata": {
    "id": "t1df3UNVP0DE"
   },
   "outputs": [],
   "source": [
    "!python -m pytest"
   ]
  },
  {
   "cell_type": "markdown",
   "metadata": {
    "id": "nsyfTNwFiOs-"
   },
   "source": [
    "**Ejercicio 12**: Agregar al mazo un método para repartir cartas. El método deberia recibir una lista de manos, las cuales reciben las cartas, y la cantidad de cartas a repartir en cada mano.\n",
    "\n"
   ]
  },
  {
   "cell_type": "code",
   "execution_count": null,
   "metadata": {
    "id": "V-TOLCSpiz41"
   },
   "outputs": [],
   "source": [
    "%%file test_mazo.py\n",
    "\n",
    "import random\n",
    "from test_carta import Carta # Importamos carta\n",
    "# escribi tu codigo aca.\n",
    "# No olvides copiarte lo que resolviste mas arriba!"
   ]
  },
  {
   "cell_type": "code",
   "execution_count": null,
   "metadata": {
    "id": "5p5yojj5QlA1"
   },
   "outputs": [],
   "source": [
    "!python -m pytest"
   ]
  },
  {
   "cell_type": "markdown",
   "metadata": {
    "id": "ejwTbqtUjump"
   },
   "source": [
    "**Ejercicio 13**: Agregar funcionalidad para imprimir una mano, mostrando a quien pertenece y que cartas contiene"
   ]
  },
  {
   "cell_type": "code",
   "execution_count": null,
   "metadata": {
    "id": "GJjx-RU5jjp0"
   },
   "outputs": [],
   "source": [
    "%%file test_mano.py\n",
    "from test_mazo import Mazo # Importamos Mazo\n",
    "from test_carta import Carta # Importamos Carta\n",
    "# escribi tu codigo aca.\n",
    "# No olvides copiarte lo que resolviste mas arriba!"
   ]
  },
  {
   "cell_type": "code",
   "execution_count": null,
   "metadata": {
    "id": "eOvrOqoCRC0O"
   },
   "outputs": [],
   "source": [
    "!python -m pytest"
   ]
  },
  {
   "cell_type": "markdown",
   "metadata": {
    "id": "XVAAIrjq6JAW"
   },
   "source": [
    "**Ejercicio 14**: Agregar una clase Juego que represente un juego arbitrario con cartas españolas. Recordar que un juego con cartas españolas siempre involucra un mazo que generalmente se mezcla."
   ]
  },
  {
   "cell_type": "code",
   "execution_count": null,
   "metadata": {
    "id": "rjLzRSINkIKe"
   },
   "outputs": [],
   "source": [
    "%%file test_juego.py\n",
    "from test_mazo import Mazo # Importamos Mazo\n",
    "# escribi tu codigo aca.\n"
   ]
  },
  {
   "cell_type": "code",
   "execution_count": null,
   "metadata": {
    "id": "UaM4bzjTRi-z"
   },
   "outputs": [],
   "source": [
    "!python -m pytest"
   ]
  },
  {
   "cell_type": "markdown",
   "metadata": {
    "id": "Bv4Flv9bRmWe"
   },
   "source": [
    "**Ejercicio 15**: Heredar una clase TrucoArgentino que represente un juego de truco argentino para dos jugadores. Recordar:\n",
    "\n",
    "- Antes de empezar a jugar se deben quitar los 8 y los 9 de todos los palos, y los dos comodines.\n",
    "- se deben inicializar dos manos de tres cartas cada una. Se reciben por parametros al constructor los nombres de ambos jugadores."
   ]
  },
  {
   "cell_type": "code",
   "execution_count": null,
   "metadata": {
    "id": "iT2PHuJl6Hv1"
   },
   "outputs": [],
   "source": [
    "%%file test_truco_argentino.py\n",
    "from test_juego import Juego\n",
    "from test_mano import Mano\n",
    "from test_carta import Carta \n",
    "# escribi tu codigo aca.\n"
   ]
  },
  {
   "cell_type": "code",
   "execution_count": null,
   "metadata": {
    "id": "QpxWpdsvTTTm"
   },
   "outputs": [],
   "source": [
    "! python -m pytest"
   ]
  },
  {
   "cell_type": "markdown",
   "metadata": {
    "id": "x2UnxVlPTuhE"
   },
   "source": [
    "**Ejercicio 16**: Implementar un método `.gana_envido()` que devuelva el nombre del jugador que tiene mas puntos de envido. \n",
    "\n",
    "* Asumimos que nuestros jugadores son muy malos en el truco y nunca mienten.\n",
    "* Jugamos sin flor.\n",
    "* Recordar que para calcular el envido, si un jugador posee dos o más cartas de igual palo, los puntos de envido equivale a la suma del puntaje de dos cartas del mismo palo elegidas por el jugador más veinte puntos (10, 11 y 12 no suman). Jugamos asumiendo que mano1 es mano del partido (es decir, gana el envido en caso de empate).\n"
   ]
  },
  {
   "cell_type": "code",
   "execution_count": null,
   "metadata": {
    "id": "doVFXtuST6cX"
   },
   "outputs": [],
   "source": [
    "%%file test_truco_argentino.py\n",
    "from test_juego import Juego\n",
    "from test_mano import Mano\n",
    "from test_carta import Carta\n",
    "# escribi tu codigo aca.\n",
    "# No olvides copiarte lo que resolviste mas arriba!\n"
   ]
  },
  {
   "cell_type": "code",
   "execution_count": null,
   "metadata": {
    "id": "wG1NW8-kaOXL"
   },
   "outputs": [],
   "source": [
    "!python -m pytest"
   ]
  }
 ],
 "metadata": {
  "colab": {
   "collapsed_sections": [
    "svFLCJiR_Vcc",
    "TvoEXzScDpS7"
   ],
   "provenance": []
  },
  "kernelspec": {
   "display_name": "Python 3",
   "language": "python",
   "name": "python3"
  },
  "language_info": {
   "codemirror_mode": {
    "name": "ipython",
    "version": 3
   },
   "file_extension": ".py",
   "mimetype": "text/x-python",
   "name": "python",
   "nbconvert_exporter": "python",
   "pygments_lexer": "ipython3",
   "version": "3.7.3"
  }
 },
 "nbformat": 4,
 "nbformat_minor": 1
}
